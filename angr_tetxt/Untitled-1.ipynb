{
 "cells": [
  {
   "cell_type": "code",
   "execution_count": 1,
   "metadata": {},
   "outputs": [
    {
     "ename": "ModuleNotFoundError",
     "evalue": "No module named 'angr.code_location'; 'angr' is not a package",
     "output_type": "error",
     "traceback": [
      "\u001b[0;31m---------------------------------------------------------------------------\u001b[0m",
      "\u001b[0;31mModuleNotFoundError\u001b[0m                       Traceback (most recent call last)",
      "Cell \u001b[0;32mIn[1], line 1\u001b[0m\n\u001b[0;32m----> 1\u001b[0m \u001b[38;5;28;01mimport\u001b[39;00m \u001b[38;5;21;01mangr\u001b[39;00m\n\u001b[1;32m      2\u001b[0m \u001b[38;5;28;01mimport\u001b[39;00m \u001b[38;5;21;01msys\u001b[39;00m\n\u001b[1;32m      3\u001b[0m \u001b[38;5;28;01mimport\u001b[39;00m \u001b[38;5;21;01mstruct\u001b[39;00m\n",
      "File \u001b[0;32m~/project/angr_tetxt/angr.py:6\u001b[0m\n\u001b[1;32m      4\u001b[0m \u001b[38;5;28;01mimport\u001b[39;00m \u001b[38;5;21;01mnetworkx\u001b[39;00m \u001b[38;5;28;01mas\u001b[39;00m \u001b[38;5;21;01mnx\u001b[39;00m\n\u001b[1;32m      5\u001b[0m \u001b[38;5;28;01mimport\u001b[39;00m \u001b[38;5;21;01mmonkeyhex\u001b[39;00m\n\u001b[0;32m----> 6\u001b[0m \u001b[38;5;28;01mfrom\u001b[39;00m \u001b[38;5;21;01mangr\u001b[39;00m\u001b[38;5;21;01m.\u001b[39;00m\u001b[38;5;21;01mcode_location\u001b[39;00m \u001b[38;5;28;01mimport\u001b[39;00m ExternalCodeLocation\n\u001b[1;32m      7\u001b[0m \u001b[38;5;28;01mfrom\u001b[39;00m \u001b[38;5;21;01mangr\u001b[39;00m\u001b[38;5;21;01m.\u001b[39;00m\u001b[38;5;21;01mknowledge_plugins\u001b[39;00m\u001b[38;5;21;01m.\u001b[39;00m\u001b[38;5;21;01mkey_definitions\u001b[39;00m\u001b[38;5;21;01m.\u001b[39;00m\u001b[38;5;21;01matoms\u001b[39;00m \u001b[38;5;28;01mimport\u001b[39;00m Register, MemoryLocation\n\u001b[1;32m     10\u001b[0m binary_path \u001b[38;5;241m=\u001b[39m sys\u001b[38;5;241m.\u001b[39margv[\u001b[38;5;241m1\u001b[39m]\n",
      "\u001b[0;31mModuleNotFoundError\u001b[0m: No module named 'angr.code_location'; 'angr' is not a package"
     ]
    }
   ],
   "source": [
    "import angr\n",
    "import sys\n",
    "import struct\n",
    "import networkx as nx\n",
    "import monkeyhex\n",
    "from angr.code_location import ExternalCodeLocation\n",
    "from angr.knowledge_plugins.key_definitions.atoms import Register, MemoryLocation"
   ]
  },
  {
   "cell_type": "code",
   "execution_count": 1,
   "metadata": {},
   "outputs": [
    {
     "ename": "NameError",
     "evalue": "name 'angr' is not defined",
     "output_type": "error",
     "traceback": [
      "\u001b[0;31m---------------------------------------------------------------------------\u001b[0m",
      "\u001b[0;31mNameError\u001b[0m                                 Traceback (most recent call last)",
      "Cell \u001b[0;32mIn[1], line 3\u001b[0m\n\u001b[1;32m      1\u001b[0m binary_path \u001b[38;5;241m=\u001b[39m \u001b[38;5;124m'\u001b[39m\u001b[38;5;124mtest\u001b[39m\u001b[38;5;124m'\u001b[39m\n\u001b[0;32m----> 3\u001b[0m p \u001b[38;5;241m=\u001b[39m \u001b[43mangr\u001b[49m\u001b[38;5;241m.\u001b[39mProject(\n\u001b[1;32m      4\u001b[0m     binary_path,\n\u001b[1;32m      5\u001b[0m     main_opts\u001b[38;5;241m=\u001b[39m{\n\u001b[1;32m      6\u001b[0m         \u001b[38;5;124m'\u001b[39m\u001b[38;5;124mbackend\u001b[39m\u001b[38;5;124m'\u001b[39m: \u001b[38;5;124m'\u001b[39m\u001b[38;5;124mblob\u001b[39m\u001b[38;5;124m'\u001b[39m,\n\u001b[1;32m      7\u001b[0m         \u001b[38;5;124m'\u001b[39m\u001b[38;5;124march\u001b[39m\u001b[38;5;124m'\u001b[39m: \u001b[38;5;124m'\u001b[39m\u001b[38;5;124marmel\u001b[39m\u001b[38;5;124m'\u001b[39m,  \u001b[38;5;66;03m# 'armel' for little-endian ARM\u001b[39;00m\n\u001b[1;32m      8\u001b[0m         \u001b[38;5;66;03m# 'base_addr': base_addr,\u001b[39;00m\n\u001b[1;32m      9\u001b[0m         \u001b[38;5;66;03m# 'entry_point': entry_point,\u001b[39;00m\n\u001b[1;32m     10\u001b[0m     },\n\u001b[1;32m     11\u001b[0m     auto_load_libs\u001b[38;5;241m=\u001b[39m\u001b[38;5;28;01mTrue\u001b[39;00m\n\u001b[1;32m     12\u001b[0m )\n\u001b[1;32m     14\u001b[0m cfg \u001b[38;5;241m=\u001b[39m p\u001b[38;5;241m.\u001b[39manalyses\u001b[38;5;241m.\u001b[39mCFGEmulated(\n\u001b[1;32m     15\u001b[0m     normalize\u001b[38;5;241m=\u001b[39m\u001b[38;5;28;01mTrue\u001b[39;00m,\n\u001b[1;32m     16\u001b[0m     context_sensitivity_level\u001b[38;5;241m=\u001b[39m\u001b[38;5;241m3\u001b[39m,  \u001b[38;5;66;03m# Increase context sensitivity if needed\u001b[39;00m\n\u001b[0;32m   (...)\u001b[0m\n\u001b[1;32m     19\u001b[0m     enable_function_hints\u001b[38;5;241m=\u001b[39m\u001b[38;5;28;01mTrue\u001b[39;00m\n\u001b[1;32m     20\u001b[0m )\n",
      "\u001b[0;31mNameError\u001b[0m: name 'angr' is not defined"
     ]
    }
   ],
   "source": [
    "\n",
    "binary_path = 'test'\n",
    "\n",
    "p = angr.Project(\n",
    "    binary_path,\n",
    "    main_opts={\n",
    "        'backend': 'blob',\n",
    "        'arch': 'armel',  # 'armel' for little-endian ARM\n",
    "        # 'base_addr': base_addr,\n",
    "        # 'entry_point': entry_point,\n",
    "    },\n",
    "    auto_load_libs=True\n",
    ")\n",
    "\n",
    "cfg = p.analyses.CFGEmulated(\n",
    "    normalize=True,\n",
    "    context_sensitivity_level=3,  # Increase context sensitivity if needed\n",
    "    # starts=[entry_point],\n",
    "    keep_state=True,\n",
    "    enable_function_hints=True\n",
    ")"
   ]
  }
 ],
 "metadata": {
  "kernelspec": {
   "display_name": "angr",
   "language": "python",
   "name": "python3"
  },
  "language_info": {
   "codemirror_mode": {
    "name": "ipython",
    "version": 3
   },
   "file_extension": ".py",
   "mimetype": "text/x-python",
   "name": "python",
   "nbconvert_exporter": "python",
   "pygments_lexer": "ipython3",
   "version": "3.12.7"
  }
 },
 "nbformat": 4,
 "nbformat_minor": 2
}
