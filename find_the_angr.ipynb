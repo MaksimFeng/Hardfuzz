{
 "cells": [
  {
   "cell_type": "code",
   "execution_count": 1,
   "metadata": {},
   "outputs": [
    {
     "name": "stderr",
     "output_type": "stream",
     "text": [
      "WARNING  | 2024-10-12 17:17:33,737 | angr.state_plugins.unicorn_engine | failed loading \"angr_native.so\", unicorn support disabled (module 'unicorn.unicorn' has no attribute 'UC_HOOK_MEM_INVALID_CB')\n"
     ]
    }
   ],
   "source": [
    "import angr"
   ]
  },
  {
   "cell_type": "code",
   "execution_count": 2,
   "metadata": {},
   "outputs": [
    {
     "name": "stderr",
     "output_type": "stream",
     "text": [
      "WARNING  | 2024-10-12 17:18:17,040 | cle.backends.blob | No entry_point was specified for blob FREERTOS.bin, assuming 0\n",
      "WARNING  | 2024-10-12 17:18:17,041 | cle.backends.blob | No base_addr was specified for blob FREERTOS.bin, assuming 0\n"
     ]
    }
   ],
   "source": [
    "p = angr.Project('/home/kai/experimentdata/FREERTOS.bin', auto_load_libs=False, main_opts = {'backend': 'blob', 'arch':'arm'})"
   ]
  }
 ],
 "metadata": {
  "kernelspec": {
   "display_name": "angr_dev",
   "language": "python",
   "name": "python3"
  },
  "language_info": {
   "codemirror_mode": {
    "name": "ipython",
    "version": 3
   },
   "file_extension": ".py",
   "mimetype": "text/x-python",
   "name": "python",
   "nbconvert_exporter": "python",
   "pygments_lexer": "ipython3",
   "version": "3.10.12"
  }
 },
 "nbformat": 4,
 "nbformat_minor": 2
}
